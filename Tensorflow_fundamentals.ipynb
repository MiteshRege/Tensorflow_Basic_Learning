{
  "nbformat": 4,
  "nbformat_minor": 0,
  "metadata": {
    "colab": {
      "name": "Tensorflow_fundamentals.ipynb",
      "provenance": [],
      "collapsed_sections": [
        "tfyVB1TiP81v",
        "52dX0i-B6R8Y",
        "rZT0WH1_8J18"
      ]
    },
    "kernelspec": {
      "name": "python3",
      "display_name": "Python 3"
    },
    "language_info": {
      "name": "python"
    }
  },
  "cells": [
    {
      "cell_type": "markdown",
      "source": [
        "## Fundamentals of tensor using TensorFlow\n",
        "\n",
        "### Content : \n",
        "- Intro to tensors\n",
        "- Getting info from tensors\n",
        "- manipulating tensors \n",
        "- Tensors and numpy\n",
        "- Using @tf.function (a way to speed up your regular python functions)\n",
        "- Using GPU andd TPU with TensorFlow\n",
        "- Exerices to try"
      ],
      "metadata": {
        "id": "tNu1GzZM_v0U"
      }
    },
    {
      "cell_type": "code",
      "execution_count": null,
      "metadata": {
        "colab": {
          "base_uri": "https://localhost:8080/"
        },
        "id": "z3SRJ-rt_m0F",
        "outputId": "d23c2c64-49e3-4fdb-96af-f4d66a1bd817"
      },
      "outputs": [
        {
          "output_type": "stream",
          "name": "stdout",
          "text": [
            "2.8.0\n"
          ]
        }
      ],
      "source": [
        "# intro to tensors\n",
        "\n",
        "# import TensorFlow\n",
        "import tensorflow as tf\n",
        "print(tf.__version__)"
      ]
    },
    {
      "cell_type": "code",
      "source": [
        "# Creating tensors with tf.constant()\n",
        "#  Creates a constant tensor from a tensor-like object.\n",
        "scalar =  tf.constant(7)\n",
        "scalar\n",
        "\n",
        "# o/p   :  1.shape of tensor : Shape as in normal shape(tow,col) of matrix or array\n",
        "#       :  2.datatype of tensor \n",
        "#       :  3. numpy version of tensor and dtype of numpy version"
      ],
      "metadata": {
        "colab": {
          "base_uri": "https://localhost:8080/"
        },
        "id": "8wEm54eaAv7b",
        "outputId": "d9e64a8b-334e-4c35-8c6e-abc4c0f9df7b"
      },
      "execution_count": null,
      "outputs": [
        {
          "output_type": "execute_result",
          "data": {
            "text/plain": [
              "<tf.Tensor: shape=(), dtype=int32, numpy=7>"
            ]
          },
          "metadata": {},
          "execution_count": 32
        }
      ]
    },
    {
      "cell_type": "code",
      "source": [
        "#  \"ndim\"  - no. of dimension of a tensor  \n",
        "scalar.ndim\n",
        "# 0 rank tensor "
      ],
      "metadata": {
        "colab": {
          "base_uri": "https://localhost:8080/"
        },
        "id": "2-oA3pimEHfK",
        "outputId": "f416b559-2792-403f-c5c6-1995acbcf906"
      },
      "execution_count": null,
      "outputs": [
        {
          "output_type": "execute_result",
          "data": {
            "text/plain": [
              "0"
            ]
          },
          "metadata": {},
          "execution_count": 33
        }
      ]
    },
    {
      "cell_type": "code",
      "source": [
        "# create a vector \n",
        "vector = tf.constant((10,10))\n",
        "vector"
      ],
      "metadata": {
        "colab": {
          "base_uri": "https://localhost:8080/"
        },
        "id": "5R9Keft5ERAS",
        "outputId": "26067aaa-f60f-4a70-e6a3-14536b944252"
      },
      "execution_count": null,
      "outputs": [
        {
          "output_type": "execute_result",
          "data": {
            "text/plain": [
              "<tf.Tensor: shape=(2,), dtype=int32, numpy=array([10, 10], dtype=int32)>"
            ]
          },
          "metadata": {},
          "execution_count": 34
        }
      ]
    },
    {
      "cell_type": "code",
      "source": [
        "vector.ndim\n",
        "# 1 rank tensor "
      ],
      "metadata": {
        "colab": {
          "base_uri": "https://localhost:8080/"
        },
        "id": "MqiYszYEEsxD",
        "outputId": "ced1a608-69b3-487d-e276-16ce47d9b04b"
      },
      "execution_count": null,
      "outputs": [
        {
          "output_type": "execute_result",
          "data": {
            "text/plain": [
              "1"
            ]
          },
          "metadata": {},
          "execution_count": 35
        }
      ]
    },
    {
      "cell_type": "code",
      "source": [
        "# create a matrix\n",
        "# matrix has more than one dimension \n",
        "matrix = tf.constant((\n",
        "    [10,7],\n",
        "    [7,10]\n",
        "))\n",
        "matrix"
      ],
      "metadata": {
        "colab": {
          "base_uri": "https://localhost:8080/"
        },
        "id": "wkydNWFIEyo2",
        "outputId": "f2de3511-5fa4-4db7-84b6-83dc907c9979"
      },
      "execution_count": null,
      "outputs": [
        {
          "output_type": "execute_result",
          "data": {
            "text/plain": [
              "<tf.Tensor: shape=(2, 2), dtype=int32, numpy=\n",
              "array([[10,  7],\n",
              "       [ 7, 10]], dtype=int32)>"
            ]
          },
          "metadata": {},
          "execution_count": 36
        }
      ]
    },
    {
      "cell_type": "code",
      "source": [
        "matrix.ndim\n",
        "# 2 rank tensor "
      ],
      "metadata": {
        "colab": {
          "base_uri": "https://localhost:8080/"
        },
        "id": "JEgmVcI5Fomr",
        "outputId": "4ce689de-709b-44e3-8885-54e64a3f4300"
      },
      "execution_count": null,
      "outputs": [
        {
          "output_type": "execute_result",
          "data": {
            "text/plain": [
              "2"
            ]
          },
          "metadata": {},
          "execution_count": 37
        }
      ]
    },
    {
      "cell_type": "code",
      "source": [
        "# Creating another matrix\n",
        "matrix2 = tf.constant(([1.2,1.3,1.4],\n",
        "                       [2.,2.2,3.]))\n",
        "print(matrix2.ndim)\n",
        "matrix2"
      ],
      "metadata": {
        "colab": {
          "base_uri": "https://localhost:8080/"
        },
        "id": "RWJXB2L0FzSX",
        "outputId": "605b8f28-61d1-4172-955e-83f0c2a63f48"
      },
      "execution_count": null,
      "outputs": [
        {
          "output_type": "stream",
          "name": "stdout",
          "text": [
            "2\n"
          ]
        },
        {
          "output_type": "execute_result",
          "data": {
            "text/plain": [
              "<tf.Tensor: shape=(2, 3), dtype=float32, numpy=\n",
              "array([[1.2, 1.3, 1.4],\n",
              "       [2. , 2.2, 3. ]], dtype=float32)>"
            ]
          },
          "metadata": {},
          "execution_count": 38
        }
      ]
    },
    {
      "cell_type": "code",
      "source": [
        "# Same as above . only specifed the data-type\n",
        "# Creating another matrix\n",
        "data  =  [[1.2,1.3,1.4],[2.,2.2,3.]]\n",
        "matrix2 = tf.constant(data,dtype='float16')   #   or tf.float16  \n",
        "# or  tf.constant(data,dtype=tf.float16)\n",
        "print('Dimension ',matrix2.ndim)\n",
        "matrix2\n"
      ],
      "metadata": {
        "colab": {
          "base_uri": "https://localhost:8080/"
        },
        "id": "8yqZViZPLAP2",
        "outputId": "68d287d9-b76b-4aef-aa8a-c12db1c7f787"
      },
      "execution_count": null,
      "outputs": [
        {
          "output_type": "stream",
          "name": "stdout",
          "text": [
            "Dimension  2\n"
          ]
        },
        {
          "output_type": "execute_result",
          "data": {
            "text/plain": [
              "<tf.Tensor: shape=(2, 3), dtype=float16, numpy=\n",
              "array([[1.2, 1.3, 1.4],\n",
              "       [2. , 2.2, 3. ]], dtype=float16)>"
            ]
          },
          "metadata": {},
          "execution_count": 39
        }
      ]
    },
    {
      "cell_type": "code",
      "source": [
        "# Creating a tensor \n",
        "tensor = tf.constant(\n",
        "                   [\n",
        "                      [[1,2,3],\n",
        "                      [4,5,6]],\n",
        "                     \n",
        "                     [[1.,2.,3.],\n",
        "                      [4.,5.,6.]]\n",
        "                  ]\n",
        ")\n",
        "tensor"
      ],
      "metadata": {
        "colab": {
          "base_uri": "https://localhost:8080/"
        },
        "id": "J7VpxqMWL_AB",
        "outputId": "d3297b9b-a7f0-4ded-8bab-dac686c0d055"
      },
      "execution_count": null,
      "outputs": [
        {
          "output_type": "execute_result",
          "data": {
            "text/plain": [
              "<tf.Tensor: shape=(2, 2, 3), dtype=float32, numpy=\n",
              "array([[[1., 2., 3.],\n",
              "        [4., 5., 6.]],\n",
              "\n",
              "       [[1., 2., 3.],\n",
              "        [4., 5., 6.]]], dtype=float32)>"
            ]
          },
          "metadata": {},
          "execution_count": 40
        }
      ]
    },
    {
      "cell_type": "code",
      "source": [
        "tensor.ndim"
      ],
      "metadata": {
        "colab": {
          "base_uri": "https://localhost:8080/"
        },
        "id": "m3z3Sf87Mw54",
        "outputId": "4596c177-122d-4f90-81d2-5648a8ee6c55"
      },
      "execution_count": null,
      "outputs": [
        {
          "output_type": "execute_result",
          "data": {
            "text/plain": [
              "3"
            ]
          },
          "metadata": {},
          "execution_count": 41
        }
      ]
    },
    {
      "cell_type": "markdown",
      "source": [
        "### What we have learned so far :   \n",
        "- Scalar  : Single Number            : 0D tensor\n",
        "- Vector  : A Number with Direction  : 1D tensor  eg : wind , speed , velocity \n",
        "- matrix  : 2D array of numbers      : 2S tensor \n",
        "- Tensor  : An N-dimensional array of numbers where \"n\" can be any number"
      ],
      "metadata": {
        "id": "LPf8GibYNkaM"
      }
    },
    {
      "cell_type": "markdown",
      "source": [
        "### Creating tensors with tf.Variable()\n",
        "- Advantage of this func is that after creating a tensor we can modify that tensor"
      ],
      "metadata": {
        "id": "sSkaU6XrO1vA"
      }
    },
    {
      "cell_type": "code",
      "source": [
        "#Now Creating tensors not with tf.constant()\n",
        "# Using tf.variable()\n",
        "# Creating same tensor as above using this method\n",
        "\n",
        "tf.Variable"
      ],
      "metadata": {
        "colab": {
          "base_uri": "https://localhost:8080/"
        },
        "id": "SVegq_wsOdzx",
        "outputId": "1686221a-ce81-4e11-c8f2-7eacfc99a622"
      },
      "execution_count": null,
      "outputs": [
        {
          "output_type": "execute_result",
          "data": {
            "text/plain": [
              "tensorflow.python.ops.variables.Variable"
            ]
          },
          "metadata": {},
          "execution_count": 42
        }
      ]
    },
    {
      "cell_type": "code",
      "source": [
        "changeable_tensor   = tf.Variable([10,20])\n",
        "\n",
        "unchangeable_tenaor =  tf.constant([10,20])"
      ],
      "metadata": {
        "id": "vtiZvCofOo9F"
      },
      "execution_count": null,
      "outputs": []
    },
    {
      "cell_type": "code",
      "source": [
        "changeable_tensor , unchangeable_tenaor"
      ],
      "metadata": {
        "colab": {
          "base_uri": "https://localhost:8080/"
        },
        "id": "n8CJLmE5P4Jc",
        "outputId": "fd6d2e72-f0aa-4343-bf07-cad60e0cd5ab"
      },
      "execution_count": null,
      "outputs": [
        {
          "output_type": "execute_result",
          "data": {
            "text/plain": [
              "(<tf.Variable 'Variable:0' shape=(2,) dtype=int32, numpy=array([10, 20], dtype=int32)>,\n",
              " <tf.Tensor: shape=(2,), dtype=int32, numpy=array([10, 20], dtype=int32)>)"
            ]
          },
          "metadata": {},
          "execution_count": 44
        }
      ]
    },
    {
      "cell_type": "code",
      "source": [
        "changeable_tensor[0]  , unchangeable_tenaor[0]"
      ],
      "metadata": {
        "colab": {
          "base_uri": "https://localhost:8080/"
        },
        "id": "-XJxWcZ294IJ",
        "outputId": "aba50828-9617-4a0f-f23d-8ec8cd6eae11"
      },
      "execution_count": null,
      "outputs": [
        {
          "output_type": "execute_result",
          "data": {
            "text/plain": [
              "(<tf.Tensor: shape=(), dtype=int32, numpy=10>,\n",
              " <tf.Tensor: shape=(), dtype=int32, numpy=10>)"
            ]
          },
          "metadata": {},
          "execution_count": 45
        }
      ]
    },
    {
      "cell_type": "code",
      "source": [
        "changeable_tensor[0].assign(7)"
      ],
      "metadata": {
        "colab": {
          "base_uri": "https://localhost:8080/"
        },
        "id": "azWoMMQ5oHUI",
        "outputId": "95cce37a-4a3c-412b-b727-05a91f6f2863"
      },
      "execution_count": null,
      "outputs": [
        {
          "output_type": "execute_result",
          "data": {
            "text/plain": [
              "<tf.Variable 'UnreadVariable' shape=(2,) dtype=int32, numpy=array([ 7, 20], dtype=int32)>"
            ]
          },
          "metadata": {},
          "execution_count": 46
        }
      ]
    },
    {
      "cell_type": "code",
      "source": [
        "# assign_add --> it just add with prev values\n",
        "changeable_tensor.assign_add([100,200])"
      ],
      "metadata": {
        "colab": {
          "base_uri": "https://localhost:8080/"
        },
        "id": "eLHflh4jpAft",
        "outputId": "901e619a-f8e0-4042-83c7-d35cf6db534a"
      },
      "execution_count": null,
      "outputs": [
        {
          "output_type": "execute_result",
          "data": {
            "text/plain": [
              "<tf.Variable 'UnreadVariable' shape=(2,) dtype=int32, numpy=array([107, 220], dtype=int32)>"
            ]
          },
          "metadata": {},
          "execution_count": 47
        }
      ]
    },
    {
      "cell_type": "code",
      "source": [
        "# assign_sub --> it just sub with prev values\n",
        "changeable_tensor.assign_sub([100,200])"
      ],
      "metadata": {
        "colab": {
          "base_uri": "https://localhost:8080/"
        },
        "id": "yxZzz80Xpzdq",
        "outputId": "df2fcf89-930c-418e-d626-194cf9136b8f"
      },
      "execution_count": null,
      "outputs": [
        {
          "output_type": "execute_result",
          "data": {
            "text/plain": [
              "<tf.Variable 'UnreadVariable' shape=(2,) dtype=int32, numpy=array([ 7, 20], dtype=int32)>"
            ]
          },
          "metadata": {},
          "execution_count": 48
        }
      ]
    },
    {
      "cell_type": "code",
      "source": [
        "v = tf.Variable(1.)\n",
        "v.assign(2.)\n",
        "\n",
        "v.assign_add(0.5)\n"
      ],
      "metadata": {
        "colab": {
          "base_uri": "https://localhost:8080/"
        },
        "id": "SCK5BGc9jWbC",
        "outputId": "62fa879b-1cec-4df6-875a-71e85412a257"
      },
      "execution_count": null,
      "outputs": [
        {
          "output_type": "execute_result",
          "data": {
            "text/plain": [
              "<tf.Variable 'UnreadVariable' shape=() dtype=float32, numpy=2.5>"
            ]
          },
          "metadata": {},
          "execution_count": 49
        }
      ]
    },
    {
      "cell_type": "code",
      "source": [
        "unchangeable_tenaor[0].assign(7)\n",
        "# deliberately keeped the o/p of error since cant alter tensor created by constant"
      ],
      "metadata": {
        "colab": {
          "base_uri": "https://localhost:8080/",
          "height": 287
        },
        "id": "pZJ_XXbs9n9G",
        "outputId": "0a240270-0e26-4601-c10c-11e585888d05"
      },
      "execution_count": null,
      "outputs": [
        {
          "output_type": "error",
          "ename": "AttributeError",
          "evalue": "ignored",
          "traceback": [
            "\u001b[0;31m---------------------------------------------------------------------------\u001b[0m",
            "\u001b[0;31mAttributeError\u001b[0m                            Traceback (most recent call last)",
            "\u001b[0;32m<ipython-input-50-c84a80e0371b>\u001b[0m in \u001b[0;36m<module>\u001b[0;34m()\u001b[0m\n\u001b[0;32m----> 1\u001b[0;31m \u001b[0munchangeable_tenaor\u001b[0m\u001b[0;34m[\u001b[0m\u001b[0;36m0\u001b[0m\u001b[0;34m]\u001b[0m\u001b[0;34m.\u001b[0m\u001b[0massign\u001b[0m\u001b[0;34m(\u001b[0m\u001b[0;36m7\u001b[0m\u001b[0;34m)\u001b[0m\u001b[0;34m\u001b[0m\u001b[0;34m\u001b[0m\u001b[0m\n\u001b[0m",
            "\u001b[0;32m/usr/local/lib/python3.7/dist-packages/tensorflow/python/framework/ops.py\u001b[0m in \u001b[0;36m__getattr__\u001b[0;34m(self, name)\u001b[0m\n\u001b[1;32m    511\u001b[0m         \u001b[0;32mfrom\u001b[0m \u001b[0mtensorflow\u001b[0m\u001b[0;34m.\u001b[0m\u001b[0mpython\u001b[0m\u001b[0;34m.\u001b[0m\u001b[0mops\u001b[0m\u001b[0;34m.\u001b[0m\u001b[0mnumpy_ops\u001b[0m \u001b[0;32mimport\u001b[0m \u001b[0mnp_config\u001b[0m\u001b[0;34m\u001b[0m\u001b[0;34m\u001b[0m\u001b[0m\n\u001b[1;32m    512\u001b[0m         np_config.enable_numpy_behavior()\"\"\".format(type(self).__name__, name))\n\u001b[0;32m--> 513\u001b[0;31m     \u001b[0mself\u001b[0m\u001b[0;34m.\u001b[0m\u001b[0m__getattribute__\u001b[0m\u001b[0;34m(\u001b[0m\u001b[0mname\u001b[0m\u001b[0;34m)\u001b[0m\u001b[0;34m\u001b[0m\u001b[0;34m\u001b[0m\u001b[0m\n\u001b[0m\u001b[1;32m    514\u001b[0m \u001b[0;34m\u001b[0m\u001b[0m\n\u001b[1;32m    515\u001b[0m   \u001b[0;34m@\u001b[0m\u001b[0mstaticmethod\u001b[0m\u001b[0;34m\u001b[0m\u001b[0;34m\u001b[0m\u001b[0m\n",
            "\u001b[0;31mAttributeError\u001b[0m: 'tensorflow.python.framework.ops.EagerTensor' object has no attribute 'assign'"
          ]
        }
      ]
    },
    {
      "cell_type": "markdown",
      "source": [
        "🔑  NOTE :    \n",
        "- When we want to modify tensor after creating then  use `tf.Variable`\n",
        "- If after wards in code we dont want to update tensor then use  `tf.constant`"
      ],
      "metadata": {
        "id": "snTnMZC0-u9b"
      }
    },
    {
      "cell_type": "markdown",
      "source": [
        "###  Random Tensors  \n",
        "- They are the tensors with arbitarty size and random numbers in it !\n",
        "\n",
        "### Two  methods :    \n",
        "1. normal   :  Outputs random values from a normal distribution(bell shape curve)\n",
        "2. uniform   : Outputs random values from a uniform distribution."
      ],
      "metadata": {
        "id": "oy_dKj-PABhs"
      }
    },
    {
      "cell_type": "code",
      "source": [
        "# Creating Random tensor \n",
        "random_tensor  =   tf.random.Generator.from_seed(40)\n",
        "random_tensor"
      ],
      "metadata": {
        "colab": {
          "base_uri": "https://localhost:8080/"
        },
        "id": "fO8yaoAtAAG6",
        "outputId": "455f11fb-ae85-4a0e-cd88-a51afa203301"
      },
      "execution_count": null,
      "outputs": [
        {
          "output_type": "execute_result",
          "data": {
            "text/plain": [
              "<tensorflow.python.ops.stateful_random_ops.Generator at 0x7ffa4e595ad0>"
            ]
          },
          "metadata": {},
          "execution_count": 51
        }
      ]
    },
    {
      "cell_type": "code",
      "source": [
        "# using normal  \n",
        "random_tensor  =   random_tensor.normal(shape=(1,2))\n",
        "random_tensor"
      ],
      "metadata": {
        "colab": {
          "base_uri": "https://localhost:8080/"
        },
        "id": "EUpk9rh4Nt5a",
        "outputId": "ee340a3d-7650-4e72-e854-36fa7d6dbb69"
      },
      "execution_count": null,
      "outputs": [
        {
          "output_type": "execute_result",
          "data": {
            "text/plain": [
              "<tf.Tensor: shape=(1, 2), dtype=float32, numpy=array([[1.0560527, 1.9540939]], dtype=float32)>"
            ]
          },
          "metadata": {},
          "execution_count": 53
        }
      ]
    },
    {
      "cell_type": "code",
      "source": [
        "# Creating Random tensor using uniform \n",
        "\n",
        "random_tensor_uniform  =   tf.random.Generator.from_seed(40)\n",
        "random_tensor_uniform  = random_tensor_uniform.uniform(shape=(1,2)) \n",
        "random_tensor_uniform"
      ],
      "metadata": {
        "colab": {
          "base_uri": "https://localhost:8080/"
        },
        "id": "YP61lyuYPfrL",
        "outputId": "f4b01a33-70b1-481a-8020-0c6f4be114b3"
      },
      "execution_count": null,
      "outputs": [
        {
          "output_type": "execute_result",
          "data": {
            "text/plain": [
              "<tf.Tensor: shape=(1, 2), dtype=float32, numpy=array([[0.6332247 , 0.15466881]], dtype=float32)>"
            ]
          },
          "metadata": {},
          "execution_count": 59
        }
      ]
    },
    {
      "cell_type": "code",
      "source": [
        "# More eay way \n",
        "tf.random.Generator.from_seed(30).normal(shape=(4,4))"
      ],
      "metadata": {
        "colab": {
          "base_uri": "https://localhost:8080/"
        },
        "id": "Kmn0qrvn5u80",
        "outputId": "e3fca04c-0d05-46ed-ce4c-e82e6ac6b89c"
      },
      "execution_count": null,
      "outputs": [
        {
          "output_type": "execute_result",
          "data": {
            "text/plain": [
              "<tf.Tensor: shape=(4, 4), dtype=float32, numpy=\n",
              "array([[ 0.8357487 ,  0.20849545,  1.4040174 , -2.735283  ],\n",
              "       [ 1.2232229 , -1.8653691 ,  0.00511209, -1.0493753 ],\n",
              "       [ 0.7901182 ,  1.585549  ,  0.4356279 ,  0.23645182],\n",
              "       [-0.1589871 ,  1.302304  ,  0.9592239 ,  0.85874265]],\n",
              "      dtype=float32)>"
            ]
          },
          "metadata": {},
          "execution_count": 7
        }
      ]
    },
    {
      "cell_type": "code",
      "source": [
        "random_tensor1  =   tf.random.Generator.from_seed(40)\n",
        "random_tensor1  =   random_tensor1.normal(shape=(5,5))\n",
        "random_tensor1"
      ],
      "metadata": {
        "colab": {
          "base_uri": "https://localhost:8080/"
        },
        "id": "si_j3L3nOGdG",
        "outputId": "d7a95804-c8d6-4924-9ff0-8e6a84262f43"
      },
      "execution_count": null,
      "outputs": [
        {
          "output_type": "execute_result",
          "data": {
            "text/plain": [
              "<tf.Tensor: shape=(5, 5), dtype=float32, numpy=\n",
              "array([[ 0.78953624,  0.53897345, -0.48535708,  0.74055266,  0.31662667],\n",
              "       [-1.4391748 ,  0.58923835, -1.4268045 , -0.7565803 , -0.06854702],\n",
              "       [ 0.07595026, -1.2573844 , -0.23193763, -1.8107855 ,  0.09988727],\n",
              "       [-0.50998646, -0.7535805 , -0.57166284,  0.1480774 , -0.23362993],\n",
              "       [-0.3522796 ,  0.40621263, -1.0523509 ,  1.2054597 ,  1.6874489 ]],\n",
              "      dtype=float32)>"
            ]
          },
          "metadata": {},
          "execution_count": 55
        }
      ]
    },
    {
      "cell_type": "code",
      "source": [
        "random_tensor2  =   tf.random.Generator.from_seed(40)\n",
        "random_tensor2  =   random_tensor2.normal(shape=(5,5))"
      ],
      "metadata": {
        "id": "bQG7qbCUOYyq"
      },
      "execution_count": null,
      "outputs": []
    },
    {
      "cell_type": "code",
      "source": [
        "random_tensor2  == random_tensor1\n",
        "# Both same becz od from_seed same value"
      ],
      "metadata": {
        "colab": {
          "base_uri": "https://localhost:8080/"
        },
        "id": "u5bmEReaOcTn",
        "outputId": "2366c1d6-b122-4b94-ea8a-6fdf53d2b539"
      },
      "execution_count": null,
      "outputs": [
        {
          "output_type": "execute_result",
          "data": {
            "text/plain": [
              "<tf.Tensor: shape=(5, 5), dtype=bool, numpy=\n",
              "array([[ True,  True,  True,  True,  True],\n",
              "       [ True,  True,  True,  True,  True],\n",
              "       [ True,  True,  True,  True,  True],\n",
              "       [ True,  True,  True,  True,  True],\n",
              "       [ True,  True,  True,  True,  True]])>"
            ]
          },
          "metadata": {},
          "execution_count": 57
        }
      ]
    },
    {
      "cell_type": "markdown",
      "source": [
        "### Shuffle the order of the  elements in a tensor :    \n",
        "WHY shuffleing a tensor  ?<br> \n",
        "Ans :    \n",
        "Useful when we want to shuffle our data  so that inherent order doesn't effect model learning<br> \n",
        "Eg :    \n",
        "- In dataset if we have 1k one entry for wadapav and  next 5k  for samosa pav \n",
        "- then model will train 1st on first 1k then 5k \n",
        "- instead this we can shuffle the dataset "
      ],
      "metadata": {
        "id": "tfyVB1TiP81v"
      }
    },
    {
      "cell_type": "code",
      "source": [
        "tensor_to_shuffle = tf.constant([[1,2,3],\n",
        "                                 [4,5,6],\n",
        "                                 [7,8,9]])\n",
        "tensor_to_shuffle"
      ],
      "metadata": {
        "colab": {
          "base_uri": "https://localhost:8080/"
        },
        "id": "WjGucp34OsKJ",
        "outputId": "2c124111-a3a8-4369-8a0f-8b64539d6e14"
      },
      "execution_count": null,
      "outputs": [
        {
          "output_type": "execute_result",
          "data": {
            "text/plain": [
              "<tf.Tensor: shape=(3, 3), dtype=int32, numpy=\n",
              "array([[1, 2, 3],\n",
              "       [4, 5, 6],\n",
              "       [7, 8, 9]], dtype=int32)>"
            ]
          },
          "metadata": {},
          "execution_count": 60
        }
      ]
    },
    {
      "cell_type": "code",
      "source": [
        "tf.random.shuffle(tensor_to_shuffle)"
      ],
      "metadata": {
        "colab": {
          "base_uri": "https://localhost:8080/"
        },
        "id": "lMtdzPBOTQKK",
        "outputId": "968ec023-ae7b-4f01-dee6-6c6937117c5d"
      },
      "execution_count": null,
      "outputs": [
        {
          "output_type": "execute_result",
          "data": {
            "text/plain": [
              "<tf.Tensor: shape=(3, 3), dtype=int32, numpy=\n",
              "array([[7, 8, 9],\n",
              "       [4, 5, 6],\n",
              "       [1, 2, 3]], dtype=int32)>"
            ]
          },
          "metadata": {},
          "execution_count": 61
        }
      ]
    },
    {
      "cell_type": "code",
      "source": [
        "tf.random.shuffle(tensor_to_shuffle)\n",
        "# Every time we will get ramdom o/p by shuffling the tensor data"
      ],
      "metadata": {
        "colab": {
          "base_uri": "https://localhost:8080/"
        },
        "id": "3r399jQuTV7W",
        "outputId": "291e83d0-8746-4ae8-ddb1-016c82a58e72"
      },
      "execution_count": null,
      "outputs": [
        {
          "output_type": "execute_result",
          "data": {
            "text/plain": [
              "<tf.Tensor: shape=(3, 3), dtype=int32, numpy=\n",
              "array([[1, 2, 3],\n",
              "       [4, 5, 6],\n",
              "       [7, 8, 9]], dtype=int32)>"
            ]
          },
          "metadata": {},
          "execution_count": 63
        }
      ]
    },
    {
      "cell_type": "code",
      "source": [
        "# so to shuffle many times and get same result we have to set the seed using set_seed()\n",
        "tf.random.set_seed(42)\n",
        "tensor_to_shuffle ,   tf.random.shuffle(tensor_to_shuffle)\n",
        "\n",
        "# using set_seed every time we will get same shuffle o/p "
      ],
      "metadata": {
        "colab": {
          "base_uri": "https://localhost:8080/"
        },
        "id": "i_0FCc1BTfqv",
        "outputId": "e86dac13-6842-4799-9b39-46a04358a743"
      },
      "execution_count": null,
      "outputs": [
        {
          "output_type": "execute_result",
          "data": {
            "text/plain": [
              "(<tf.Tensor: shape=(3, 3), dtype=int32, numpy=\n",
              " array([[1, 2, 3],\n",
              "        [4, 5, 6],\n",
              "        [7, 8, 9]], dtype=int32)>,\n",
              " <tf.Tensor: shape=(3, 3), dtype=int32, numpy=\n",
              " array([[4, 5, 6],\n",
              "        [7, 8, 9],\n",
              "        [1, 2, 3]], dtype=int32)>)"
            ]
          },
          "metadata": {},
          "execution_count": 76
        }
      ]
    },
    {
      "cell_type": "markdown",
      "source": [
        "### Exercise :     \n",
        "- Q1 :    create a tensor with variable and shuffle \n",
        "- Q2 :    Create a tensor with constant and shuffle and use set_seed\n",
        "- Q3 :    Shuffle random tensor "
      ],
      "metadata": {
        "id": "52dX0i-B6R8Y"
      }
    },
    {
      "cell_type": "code",
      "source": [
        "# Ans of exercise\n",
        "\n",
        "# Q1  ans \n",
        "tf.random.shuffle( tf.constant([[[1,2,3],[4,5,6]],\n",
        "                                [[7,8,9],[10,11,12]]]) )\n",
        "\n"
      ],
      "metadata": {
        "colab": {
          "base_uri": "https://localhost:8080/"
        },
        "id": "-tsYK3rE5G-z",
        "outputId": "30d9481f-8563-46fd-eec5-48e859e6cc0c"
      },
      "execution_count": null,
      "outputs": [
        {
          "output_type": "execute_result",
          "data": {
            "text/plain": [
              "<tf.Tensor: shape=(2, 2, 3), dtype=int32, numpy=\n",
              "array([[[ 7,  8,  9],\n",
              "        [10, 11, 12]],\n",
              "\n",
              "       [[ 1,  2,  3],\n",
              "        [ 4,  5,  6]]], dtype=int32)>"
            ]
          },
          "metadata": {},
          "execution_count": 14
        }
      ]
    },
    {
      "cell_type": "code",
      "source": [
        "# Q2 ans \n",
        "tf.random.set_seed(14)\n",
        "tf.random.shuffle( tf.Variable([[[1,2,3],[4,5,6]],\n",
        "                                [[7,8,9],[10,11,12]]]) )"
      ],
      "metadata": {
        "colab": {
          "base_uri": "https://localhost:8080/"
        },
        "id": "iwmhyO-k7Tt4",
        "outputId": "d537ba26-3af1-46a5-a444-be6f540ad3dc"
      },
      "execution_count": null,
      "outputs": [
        {
          "output_type": "execute_result",
          "data": {
            "text/plain": [
              "<tf.Tensor: shape=(2, 2, 3), dtype=int32, numpy=\n",
              "array([[[ 7,  8,  9],\n",
              "        [10, 11, 12]],\n",
              "\n",
              "       [[ 1,  2,  3],\n",
              "        [ 4,  5,  6]]], dtype=int32)>"
            ]
          },
          "metadata": {},
          "execution_count": 21
        }
      ]
    },
    {
      "cell_type": "code",
      "source": [
        "# Q3 ans \n",
        "tf.random.shuffle( tf.random.Generator.from_seed(15).normal(shape=(6,6)) )"
      ],
      "metadata": {
        "colab": {
          "base_uri": "https://localhost:8080/"
        },
        "id": "ydx6lbBd5HWf",
        "outputId": "b03480a9-0091-4e51-d9be-d75146d36d38"
      },
      "execution_count": null,
      "outputs": [
        {
          "output_type": "execute_result",
          "data": {
            "text/plain": [
              "<tf.Tensor: shape=(6, 6), dtype=float32, numpy=\n",
              "array([[-1.322665  , -0.02279496, -0.1383193 ,  0.44207528, -0.7531523 ,\n",
              "         2.0261486 ],\n",
              "       [ 0.33149973, -0.5445254 ,  1.5222508 ,  0.59303206, -0.63509274,\n",
              "         0.3703566 ],\n",
              "       [ 1.0884082 , -1.3863064 ,  0.88051325, -1.6833194 ,  0.86754173,\n",
              "        -0.19625713],\n",
              "       [ 0.35877243, -1.9095894 , -0.2094769 ,  0.8286217 , -0.06695071,\n",
              "        -0.35105535],\n",
              "       [-0.06997604,  0.85445154,  0.1175475 ,  0.03493892, -1.5700307 ,\n",
              "         0.4457582 ],\n",
              "       [-1.0939722 , -0.4601445 ,  1.5420506 , -0.16822556, -0.4390865 ,\n",
              "        -0.4129243 ]], dtype=float32)>"
            ]
          },
          "metadata": {},
          "execution_count": 25
        }
      ]
    },
    {
      "cell_type": "markdown",
      "source": [
        "Study diff b/w global seed : set_seed() & local seed : seed as parameter\n",
        "\n",
        "- INSIGHT :         \n",
        "> If both the global ad local seed are used together then ; both are used in conjuction to determine the random sequence.\n",
        "\n",
        "**CONCLUSION** \n",
        "> we had used this seed for : creaing reproducable suffled o/p of tensor"
      ],
      "metadata": {
        "id": "ZEE9K6Em8Or3"
      }
    },
    {
      "cell_type": "markdown",
      "source": [
        "### Other Ways to make tensors \n",
        "1. Numpy  (tf.constant(array,shape)"
      ],
      "metadata": {
        "id": "rZT0WH1_8J18"
      }
    },
    {
      "cell_type": "code",
      "source": [
        "# Creating array of all ones\n",
        "tf.ones(shape=(10,7))"
      ],
      "metadata": {
        "colab": {
          "base_uri": "https://localhost:8080/"
        },
        "id": "7sCNlYhv8KQY",
        "outputId": "009b9465-0156-4e2a-c440-9ff8f7b2831f"
      },
      "execution_count": null,
      "outputs": [
        {
          "output_type": "execute_result",
          "data": {
            "text/plain": [
              "<tf.Tensor: shape=(10, 7), dtype=float32, numpy=\n",
              "array([[1., 1., 1., 1., 1., 1., 1.],\n",
              "       [1., 1., 1., 1., 1., 1., 1.],\n",
              "       [1., 1., 1., 1., 1., 1., 1.],\n",
              "       [1., 1., 1., 1., 1., 1., 1.],\n",
              "       [1., 1., 1., 1., 1., 1., 1.],\n",
              "       [1., 1., 1., 1., 1., 1., 1.],\n",
              "       [1., 1., 1., 1., 1., 1., 1.],\n",
              "       [1., 1., 1., 1., 1., 1., 1.],\n",
              "       [1., 1., 1., 1., 1., 1., 1.],\n",
              "       [1., 1., 1., 1., 1., 1., 1.]], dtype=float32)>"
            ]
          },
          "metadata": {},
          "execution_count": 32
        }
      ]
    },
    {
      "cell_type": "code",
      "source": [
        "# Creating array of all zeros using numpy \n",
        "tf.zeros(shape=(4,7))"
      ],
      "metadata": {
        "colab": {
          "base_uri": "https://localhost:8080/"
        },
        "id": "3IxmA2po99HD",
        "outputId": "bc21ceea-8cd0-4d91-cfc4-b96291f4bc14"
      },
      "execution_count": null,
      "outputs": [
        {
          "output_type": "execute_result",
          "data": {
            "text/plain": [
              "<tf.Tensor: shape=(4, 7), dtype=float32, numpy=\n",
              "array([[0., 0., 0., 0., 0., 0., 0.],\n",
              "       [0., 0., 0., 0., 0., 0., 0.],\n",
              "       [0., 0., 0., 0., 0., 0., 0.],\n",
              "       [0., 0., 0., 0., 0., 0., 0.]], dtype=float32)>"
            ]
          },
          "metadata": {},
          "execution_count": 33
        }
      ]
    },
    {
      "cell_type": "markdown",
      "source": [
        "#### now converting arrays into tensors\n",
        "- Main Difference betwee Tensor and Numpy Array is \n",
        " >  Tensors runs on GPU with very Fast computation "
      ],
      "metadata": {
        "id": "qrXkFXdR-jlf"
      }
    },
    {
      "cell_type": "code",
      "source": [
        "import numpy as np\n",
        "array = np.array([1,2,3,4,5,6,7,8,9,10]) \n",
        "array"
      ],
      "metadata": {
        "colab": {
          "base_uri": "https://localhost:8080/"
        },
        "id": "nUX0_Bo-_ARY",
        "outputId": "b8096fed-7d66-4c23-ed27-9b7568f2699d"
      },
      "execution_count": null,
      "outputs": [
        {
          "output_type": "execute_result",
          "data": {
            "text/plain": [
              "array([ 1,  2,  3,  4,  5,  6,  7,  8,  9, 10])"
            ]
          },
          "metadata": {},
          "execution_count": 35
        }
      ]
    },
    {
      "cell_type": "code",
      "source": [
        "array1 = np.arange(0,20)\n",
        "array1"
      ],
      "metadata": {
        "colab": {
          "base_uri": "https://localhost:8080/"
        },
        "id": "IkjxrzhvAS0f",
        "outputId": "0fbb262e-57c2-44ce-a23f-d84b92481c40"
      },
      "execution_count": null,
      "outputs": [
        {
          "output_type": "execute_result",
          "data": {
            "text/plain": [
              "array([ 0,  1,  2,  3,  4,  5,  6,  7,  8,  9, 10, 11, 12, 13, 14, 15, 16,\n",
              "       17, 18, 19])"
            ]
          },
          "metadata": {},
          "execution_count": 43
        }
      ]
    },
    {
      "cell_type": "code",
      "source": [
        "# converting array to ttensor \n",
        "\n",
        "tf.constant(array)"
      ],
      "metadata": {
        "colab": {
          "base_uri": "https://localhost:8080/"
        },
        "id": "TAHVMQVRAYbw",
        "outputId": "7b0bb7c0-3c7c-4fd9-e43f-e4ac277d92b7"
      },
      "execution_count": null,
      "outputs": [
        {
          "output_type": "execute_result",
          "data": {
            "text/plain": [
              "<tf.Tensor: shape=(19,), dtype=int64, numpy=\n",
              "array([ 1,  2,  3,  4,  5,  6,  7,  8,  9, 10, 11, 12, 13, 14, 15, 16, 17,\n",
              "       18, 19])>"
            ]
          },
          "metadata": {},
          "execution_count": 39
        }
      ]
    },
    {
      "cell_type": "code",
      "source": [
        "tf.constant(array1 , shape=(5,4))\n",
        "# note 5*4 = 20 (size of array1 is 20)"
      ],
      "metadata": {
        "colab": {
          "base_uri": "https://localhost:8080/"
        },
        "id": "d1sRXoxpAfJ0",
        "outputId": "7e4d1654-aaf7-4e46-ee3e-0851c78d4e4a"
      },
      "execution_count": null,
      "outputs": [
        {
          "output_type": "execute_result",
          "data": {
            "text/plain": [
              "<tf.Tensor: shape=(5, 4), dtype=int64, numpy=\n",
              "array([[ 0,  1,  2,  3],\n",
              "       [ 4,  5,  6,  7],\n",
              "       [ 8,  9, 10, 11],\n",
              "       [12, 13, 14, 15],\n",
              "       [16, 17, 18, 19]])>"
            ]
          },
          "metadata": {},
          "execution_count": 44
        }
      ]
    },
    {
      "cell_type": "code",
      "source": [
        "tf.constant(array1 , shape=(5,2,2))\n",
        "# note 5*2*2 = 20 (size of array1 is 20)"
      ],
      "metadata": {
        "colab": {
          "base_uri": "https://localhost:8080/"
        },
        "id": "fH0A5VD_A6N7",
        "outputId": "3375bd67-af60-42f8-a39a-a223d7f524c8"
      },
      "execution_count": null,
      "outputs": [
        {
          "output_type": "execute_result",
          "data": {
            "text/plain": [
              "<tf.Tensor: shape=(5, 2, 2), dtype=int64, numpy=\n",
              "array([[[ 0,  1],\n",
              "        [ 2,  3]],\n",
              "\n",
              "       [[ 4,  5],\n",
              "        [ 6,  7]],\n",
              "\n",
              "       [[ 8,  9],\n",
              "        [10, 11]],\n",
              "\n",
              "       [[12, 13],\n",
              "        [14, 15]],\n",
              "\n",
              "       [[16, 17],\n",
              "        [18, 19]]])>"
            ]
          },
          "metadata": {},
          "execution_count": 45
        }
      ]
    },
    {
      "cell_type": "markdown",
      "source": [
        "###  Getting More Information from tensors \n",
        "\n",
        "- Shape  : total elements in each dimension\n",
        "> tensor.shape\n",
        "- Rank :   No. of tensor dimension \n",
        "<br> Eg: scalar rank=0,vector rank=1,matrix rank =2 and tensor rank 3\n",
        "> tensor.ndim\n",
        "- Axis or Dimension  :  A perticular dimension of a tensor \n",
        "> tensor[0] , tensor[:,1]\n",
        "- Size : The total no. of iteams in the tensor \n",
        ">tf.size()"
      ],
      "metadata": {
        "id": "_vJN6iyYCXRS"
      }
    },
    {
      "cell_type": "code",
      "source": [
        "# Creating rank 4 tensor \n",
        "rank_4_tensor   = tf.constant(tf.zeros(shape=(2,3,4,5)))\n",
        "rank_4_tensor\n",
        "\n",
        "# Note : \n",
        "# shape:  2,3,4,5\n",
        "# total 6 with divided in 2 we get 3 : hence  2,3\n",
        "# 4 rows and 5 cols  : hence 4,5"
      ],
      "metadata": {
        "colab": {
          "base_uri": "https://localhost:8080/"
        },
        "id": "v6_Y63tvChOp",
        "outputId": "ffbc0ee6-e325-4838-8d73-08dacaeb2c4e"
      },
      "execution_count": null,
      "outputs": [
        {
          "output_type": "execute_result",
          "data": {
            "text/plain": [
              "<tf.Tensor: shape=(2, 3, 4, 5), dtype=float32, numpy=\n",
              "array([[[[0., 0., 0., 0., 0.],\n",
              "         [0., 0., 0., 0., 0.],\n",
              "         [0., 0., 0., 0., 0.],\n",
              "         [0., 0., 0., 0., 0.]],\n",
              "\n",
              "        [[0., 0., 0., 0., 0.],\n",
              "         [0., 0., 0., 0., 0.],\n",
              "         [0., 0., 0., 0., 0.],\n",
              "         [0., 0., 0., 0., 0.]],\n",
              "\n",
              "        [[0., 0., 0., 0., 0.],\n",
              "         [0., 0., 0., 0., 0.],\n",
              "         [0., 0., 0., 0., 0.],\n",
              "         [0., 0., 0., 0., 0.]]],\n",
              "\n",
              "\n",
              "       [[[0., 0., 0., 0., 0.],\n",
              "         [0., 0., 0., 0., 0.],\n",
              "         [0., 0., 0., 0., 0.],\n",
              "         [0., 0., 0., 0., 0.]],\n",
              "\n",
              "        [[0., 0., 0., 0., 0.],\n",
              "         [0., 0., 0., 0., 0.],\n",
              "         [0., 0., 0., 0., 0.],\n",
              "         [0., 0., 0., 0., 0.]],\n",
              "\n",
              "        [[0., 0., 0., 0., 0.],\n",
              "         [0., 0., 0., 0., 0.],\n",
              "         [0., 0., 0., 0., 0.],\n",
              "         [0., 0., 0., 0., 0.]]]], dtype=float32)>"
            ]
          },
          "metadata": {},
          "execution_count": 48
        }
      ]
    },
    {
      "cell_type": "code",
      "source": [
        "# 1st dimension from 0-1\n",
        "rank_4_tensor[0]"
      ],
      "metadata": {
        "colab": {
          "base_uri": "https://localhost:8080/"
        },
        "id": "1ARRnddvEvhr",
        "outputId": "068988bf-fb19-4708-c8b6-486894b5d2ed"
      },
      "execution_count": null,
      "outputs": [
        {
          "output_type": "execute_result",
          "data": {
            "text/plain": [
              "<tf.Tensor: shape=(3, 4, 5), dtype=float32, numpy=\n",
              "array([[[0., 0., 0., 0., 0.],\n",
              "        [0., 0., 0., 0., 0.],\n",
              "        [0., 0., 0., 0., 0.],\n",
              "        [0., 0., 0., 0., 0.]],\n",
              "\n",
              "       [[0., 0., 0., 0., 0.],\n",
              "        [0., 0., 0., 0., 0.],\n",
              "        [0., 0., 0., 0., 0.],\n",
              "        [0., 0., 0., 0., 0.]],\n",
              "\n",
              "       [[0., 0., 0., 0., 0.],\n",
              "        [0., 0., 0., 0., 0.],\n",
              "        [0., 0., 0., 0., 0.],\n",
              "        [0., 0., 0., 0., 0.]]], dtype=float32)>"
            ]
          },
          "metadata": {},
          "execution_count": 49
        }
      ]
    },
    {
      "cell_type": "code",
      "source": [
        "# 2nd dimension from 0-2 \n",
        "rank_4_tensor[0][2]\n"
      ],
      "metadata": {
        "colab": {
          "base_uri": "https://localhost:8080/"
        },
        "id": "KddMfKw6FOT9",
        "outputId": "f4f346f8-4888-4b15-f142-86c550f7449e"
      },
      "execution_count": null,
      "outputs": [
        {
          "output_type": "execute_result",
          "data": {
            "text/plain": [
              "<tf.Tensor: shape=(4, 5), dtype=float32, numpy=\n",
              "array([[0., 0., 0., 0., 0.],\n",
              "       [0., 0., 0., 0., 0.],\n",
              "       [0., 0., 0., 0., 0.],\n",
              "       [0., 0., 0., 0., 0.]], dtype=float32)>"
            ]
          },
          "metadata": {},
          "execution_count": 53
        }
      ]
    },
    {
      "cell_type": "code",
      "source": [
        "# 3rd dimension from 0-3  since 4rows\n",
        "rank_4_tensor[0][2][3]\n"
      ],
      "metadata": {
        "colab": {
          "base_uri": "https://localhost:8080/"
        },
        "id": "HjJFeiTmFdqw",
        "outputId": "53e20779-8263-448c-8dbc-d6d26273dea4"
      },
      "execution_count": null,
      "outputs": [
        {
          "output_type": "execute_result",
          "data": {
            "text/plain": [
              "<tf.Tensor: shape=(5,), dtype=float32, numpy=array([0., 0., 0., 0., 0.], dtype=float32)>"
            ]
          },
          "metadata": {},
          "execution_count": 55
        }
      ]
    },
    {
      "cell_type": "code",
      "source": [
        "# 4th dimension from 0-4  since 5cols\n",
        "rank_4_tensor[0][2][3][4]"
      ],
      "metadata": {
        "colab": {
          "base_uri": "https://localhost:8080/"
        },
        "id": "kPlj2Z75FlTw",
        "outputId": "e5c5ef03-10fd-4d60-ac10-b079e5fb4e76"
      },
      "execution_count": null,
      "outputs": [
        {
          "output_type": "execute_result",
          "data": {
            "text/plain": [
              "<tf.Tensor: shape=(), dtype=float32, numpy=0.0>"
            ]
          },
          "metadata": {},
          "execution_count": 56
        }
      ]
    },
    {
      "cell_type": "code",
      "source": [
        "print(' Get Various attributes For rank_4_tensor')\n",
        "print()\n",
        "print('Rank : ',rank_4_tensor.ndim,'\\nShape : ',rank_4_tensor.shape,'\\nSize(Total elem in tensor ) : ',tf.size(rank_4_tensor))\n",
        "print('SIZE using.numpy()  : ',tf.size(rank_4_tensor).numpy())\n",
        "print(\"Datatype of Every Element : \",rank_4_tensor.dtype)\n",
        "print('Element along the 0 axis :',rank_4_tensor.shape[0])\n",
        "print('Element along the Last axis :',rank_4_tensor.shape[-1])\n",
        "\n",
        "# 2*3*4*5 = 120"
      ],
      "metadata": {
        "colab": {
          "base_uri": "https://localhost:8080/"
        },
        "id": "8UCBvls2Fyty",
        "outputId": "1a17fd33-d7c2-40f6-d222-bd585821cf84"
      },
      "execution_count": null,
      "outputs": [
        {
          "output_type": "stream",
          "name": "stdout",
          "text": [
            " Get Various attributes For rank_4_tensor\n",
            "\n",
            "Rank :  4 \n",
            "Shape :  (2, 3, 4, 5) \n",
            "Size(Total elem in tensor ) :  tf.Tensor(120, shape=(), dtype=int32)\n",
            "SIZE using.numpy()  :  120\n",
            "Datatype of Every Element :  <dtype: 'float32'>\n",
            "Element along the 0 axis : 2\n",
            "Element along the Last axis : 5\n"
          ]
        }
      ]
    },
    {
      "cell_type": "markdown",
      "source": [
        "### Indexing the tensors \n",
        "It can be done just like python list"
      ],
      "metadata": {
        "id": "J5UzGDXCI6PQ"
      }
    },
    {
      "cell_type": "code",
      "source": [
        "# Getting the first 2 elem of each dim\n",
        "rank_4_tensor[:2,:2,:2,:2]"
      ],
      "metadata": {
        "colab": {
          "base_uri": "https://localhost:8080/"
        },
        "id": "XTYtpJ-QHi15",
        "outputId": "482ff542-d8a7-4a18-bbab-e0e6b03d9c18"
      },
      "execution_count": null,
      "outputs": [
        {
          "output_type": "execute_result",
          "data": {
            "text/plain": [
              "<tf.Tensor: shape=(2, 2, 2, 2), dtype=float32, numpy=\n",
              "array([[[[0., 0.],\n",
              "         [0., 0.]],\n",
              "\n",
              "        [[0., 0.],\n",
              "         [0., 0.]]],\n",
              "\n",
              "\n",
              "       [[[0., 0.],\n",
              "         [0., 0.]],\n",
              "\n",
              "        [[0., 0.],\n",
              "         [0., 0.]]]], dtype=float32)>"
            ]
          },
          "metadata": {},
          "execution_count": 78
        }
      ]
    },
    {
      "cell_type": "code",
      "source": [
        "# Getting the first 1 elem of each dim except the last dim\n",
        "rank_4_tensor[:1,:1,:1,:]"
      ],
      "metadata": {
        "colab": {
          "base_uri": "https://localhost:8080/"
        },
        "id": "_33NdodyJSaB",
        "outputId": "625231ac-9e70-4129-e5c8-68c25edc8280"
      },
      "execution_count": null,
      "outputs": [
        {
          "output_type": "execute_result",
          "data": {
            "text/plain": [
              "<tf.Tensor: shape=(1, 1, 1, 5), dtype=float32, numpy=array([[[[0., 0., 0., 0., 0.]]]], dtype=float32)>"
            ]
          },
          "metadata": {},
          "execution_count": 79
        }
      ]
    },
    {
      "cell_type": "code",
      "source": [
        "# Getting the first 1 elem of each dim except the 2ndlast dim\n",
        "rank_4_tensor[:1,:1,:,:1]"
      ],
      "metadata": {
        "colab": {
          "base_uri": "https://localhost:8080/"
        },
        "id": "iSPgnpM0J-9_",
        "outputId": "afb0d2b9-3006-4f66-d2ec-65f82d1b608f"
      },
      "execution_count": null,
      "outputs": [
        {
          "output_type": "execute_result",
          "data": {
            "text/plain": [
              "<tf.Tensor: shape=(1, 1, 4, 1), dtype=float32, numpy=\n",
              "array([[[[0.],\n",
              "         [0.],\n",
              "         [0.],\n",
              "         [0.]]]], dtype=float32)>"
            ]
          },
          "metadata": {},
          "execution_count": 80
        }
      ]
    },
    {
      "cell_type": "code",
      "source": [
        "random_tensor = tf.random.Generator.from_seed(10).uniform(shape=(3,2))\n",
        "random_tensor"
      ],
      "metadata": {
        "colab": {
          "base_uri": "https://localhost:8080/"
        },
        "id": "345NZNi_KirU",
        "outputId": "b0e7bee1-f404-4746-bbba-268bb65d31b3"
      },
      "execution_count": null,
      "outputs": [
        {
          "output_type": "execute_result",
          "data": {
            "text/plain": [
              "<tf.Tensor: shape=(3, 2), dtype=float32, numpy=\n",
              "array([[0.93598676, 0.6513264 ],\n",
              "       [0.31663585, 0.00111556],\n",
              "       [0.9212191 , 0.3822806 ]], dtype=float32)>"
            ]
          },
          "metadata": {},
          "execution_count": 84
        }
      ]
    },
    {
      "cell_type": "code",
      "source": [
        "# Now get the last element of every row of above tensor \n",
        "random_tensor[:,-1]"
      ],
      "metadata": {
        "colab": {
          "base_uri": "https://localhost:8080/"
        },
        "id": "R5A3pjozKxUb",
        "outputId": "0bdbc603-0c1e-4656-e478-a5797f34910d"
      },
      "execution_count": null,
      "outputs": [
        {
          "output_type": "execute_result",
          "data": {
            "text/plain": [
              "<tf.Tensor: shape=(3,), dtype=float32, numpy=array([0.6513264 , 0.00111556, 0.3822806 ], dtype=float32)>"
            ]
          },
          "metadata": {},
          "execution_count": 89
        }
      ]
    },
    {
      "cell_type": "markdown",
      "source": [
        "#### Adding an Extra dimension to tensor but keeping the data same\n",
        "- tf.newaxis  : it is a parameter \n",
        "- tf.expand_dims(tensor,axis)  : it is a fucn"
      ],
      "metadata": {
        "id": "8aVyWVFILJ1U"
      }
    },
    {
      "cell_type": "code",
      "source": [
        "# Adding extra dim to random_tensor\n",
        "print(random_tensor.ndim,random_tensor.shape)\n",
        "random_tensor[tf.newaxis]  # new axis created at 1st dim"
      ],
      "metadata": {
        "colab": {
          "base_uri": "https://localhost:8080/"
        },
        "id": "pXYiHy3MLJiG",
        "outputId": "6fba0603-7260-4d45-e517-d9ac890124f2"
      },
      "execution_count": null,
      "outputs": [
        {
          "output_type": "stream",
          "name": "stdout",
          "text": [
            "2 (3, 2)\n"
          ]
        },
        {
          "output_type": "execute_result",
          "data": {
            "text/plain": [
              "<tf.Tensor: shape=(1, 3, 2), dtype=float32, numpy=\n",
              "array([[[0.93598676, 0.6513264 ],\n",
              "        [0.31663585, 0.00111556],\n",
              "        [0.9212191 , 0.3822806 ]]], dtype=float32)>"
            ]
          },
          "metadata": {},
          "execution_count": 92
        }
      ]
    },
    {
      "cell_type": "code",
      "source": [
        "# for it to create in 2nd dim \n",
        "random_tensor[:,tf.newaxis]  # new axis created at 2st dim\n"
      ],
      "metadata": {
        "colab": {
          "base_uri": "https://localhost:8080/"
        },
        "id": "HNMJcwYfMRUf",
        "outputId": "d7d30def-37ce-49ea-f8e2-005b2bffca8a"
      },
      "execution_count": null,
      "outputs": [
        {
          "output_type": "execute_result",
          "data": {
            "text/plain": [
              "<tf.Tensor: shape=(3, 1, 2), dtype=float32, numpy=\n",
              "array([[[0.93598676, 0.6513264 ]],\n",
              "\n",
              "       [[0.31663585, 0.00111556]],\n",
              "\n",
              "       [[0.9212191 , 0.3822806 ]]], dtype=float32)>"
            ]
          },
          "metadata": {},
          "execution_count": 101
        }
      ]
    },
    {
      "cell_type": "code",
      "source": [
        "# for it to create in 3rd dim \n",
        "# random_tensor[:,:,tf.newaxis]  # new axis created at 3rd dim\n",
        "\n",
        "# or \n",
        "random_tensor[...,tf.newaxis]  # new axis created at 3rd dim\n"
      ],
      "metadata": {
        "colab": {
          "base_uri": "https://localhost:8080/"
        },
        "id": "9TPjoDbUMmyT",
        "outputId": "75024350-8169-4e2c-b041-ee7cfdb87b54"
      },
      "execution_count": null,
      "outputs": [
        {
          "output_type": "execute_result",
          "data": {
            "text/plain": [
              "<tf.Tensor: shape=(3, 2, 1), dtype=float32, numpy=\n",
              "array([[[0.93598676],\n",
              "        [0.6513264 ]],\n",
              "\n",
              "       [[0.31663585],\n",
              "        [0.00111556]],\n",
              "\n",
              "       [[0.9212191 ],\n",
              "        [0.3822806 ]]], dtype=float32)>"
            ]
          },
          "metadata": {},
          "execution_count": 103
        }
      ]
    },
    {
      "cell_type": "code",
      "source": [
        "# Adding extra dim to random_tensor\n",
        "# syntax : tf.expand_dims(tensor,axis)\n",
        "print(random_tensor.ndim,random_tensor.shape)\n",
        "tf.expand_dims(random_tensor,axis=-1)# new axis created at 3rd dim"
      ],
      "metadata": {
        "colab": {
          "base_uri": "https://localhost:8080/"
        },
        "id": "At70_gkpMw7i",
        "outputId": "40e43871-5de1-4263-ac46-6f7a13ce5966"
      },
      "execution_count": null,
      "outputs": [
        {
          "output_type": "stream",
          "name": "stdout",
          "text": [
            "2 (3, 2)\n"
          ]
        },
        {
          "output_type": "execute_result",
          "data": {
            "text/plain": [
              "<tf.Tensor: shape=(3, 2, 1), dtype=float32, numpy=\n",
              "array([[[0.93598676],\n",
              "        [0.6513264 ]],\n",
              "\n",
              "       [[0.31663585],\n",
              "        [0.00111556]],\n",
              "\n",
              "       [[0.9212191 ],\n",
              "        [0.3822806 ]]], dtype=float32)>"
            ]
          },
          "metadata": {},
          "execution_count": 110
        }
      ]
    },
    {
      "cell_type": "code",
      "source": [
        "# Adding extra dim to random_tensor\n",
        "# syntax : tf.expand_dims(tensor,axis)\n",
        "print(random_tensor.ndim,random_tensor.shape)\n",
        "tf.expand_dims(random_tensor,axis=0)# new axis created at 1 dim/oth axis"
      ],
      "metadata": {
        "colab": {
          "base_uri": "https://localhost:8080/"
        },
        "id": "xyoh8-OQNV74",
        "outputId": "7d929797-08b0-45a2-83c4-3cd3801fad31"
      },
      "execution_count": null,
      "outputs": [
        {
          "output_type": "stream",
          "name": "stdout",
          "text": [
            "2 (3, 2)\n"
          ]
        },
        {
          "output_type": "execute_result",
          "data": {
            "text/plain": [
              "<tf.Tensor: shape=(1, 3, 2), dtype=float32, numpy=\n",
              "array([[[0.93598676, 0.6513264 ],\n",
              "        [0.31663585, 0.00111556],\n",
              "        [0.9212191 , 0.3822806 ]]], dtype=float32)>"
            ]
          },
          "metadata": {},
          "execution_count": 111
        }
      ]
    },
    {
      "cell_type": "markdown",
      "source": [
        "### Manipulating the Tensors  (tensors operations)\n",
        "Basic Operations \n",
        "- `+` , `-` , `*` ,`/`\n",
        "- tf.multiply(tensor,10)\n",
        "- tf.add(tensor,value) \n",
        "llly `tf.divide`"
      ],
      "metadata": {
        "id": "5rUCflm1Nep6"
      }
    },
    {
      "cell_type": "code",
      "source": [
        "tensor = tf.constant([[1,2],[10,20]])\n",
        "tensor + 5"
      ],
      "metadata": {
        "colab": {
          "base_uri": "https://localhost:8080/"
        },
        "id": "g8Z8h774NhNy",
        "outputId": "2e8f0762-92d0-49e9-cef2-3215590dfadc"
      },
      "execution_count": null,
      "outputs": [
        {
          "output_type": "execute_result",
          "data": {
            "text/plain": [
              "<tf.Tensor: shape=(2, 2), dtype=int32, numpy=\n",
              "array([[ 6,  7],\n",
              "       [15, 25]], dtype=int32)>"
            ]
          },
          "metadata": {},
          "execution_count": 4
        }
      ]
    },
    {
      "cell_type": "code",
      "source": [
        "# original tensor unchanged\n",
        "tensor"
      ],
      "metadata": {
        "colab": {
          "base_uri": "https://localhost:8080/"
        },
        "id": "hJiL6niKRbnZ",
        "outputId": "f68c4013-8a05-4eba-f4ae-66238fc44e99"
      },
      "execution_count": null,
      "outputs": [
        {
          "output_type": "execute_result",
          "data": {
            "text/plain": [
              "<tf.Tensor: shape=(2, 2), dtype=int32, numpy=\n",
              "array([[ 1,  2],\n",
              "       [10, 20]], dtype=int32)>"
            ]
          },
          "metadata": {},
          "execution_count": 5
        }
      ]
    },
    {
      "cell_type": "code",
      "source": [
        "# similarly tensor-10 , tensor* 10 , tensor / 10  , tf.add(tensor,10) , tf.multiply(tensor,10) ,  tf.divide(tensor,10)"
      ],
      "metadata": {
        "id": "fG8L1uJHRfH_"
      },
      "execution_count": null,
      "outputs": []
    },
    {
      "cell_type": "markdown",
      "source": [
        "### Matrix Multiplication (common operation in deep learning )\n",
        "> tf.matmul(mat1,mat2)<br>\n",
        "> matrix1 @ matrix2\n",
        "- There are two rules our tensors/matrices need to fulfil if we're going to matrix miltiply them :           \n",
        "<h5>Rule 1</h5>  The inner dimensions must match\n",
        "<h5>Rule 2</h5>  The resulting matrix has shape of Outer dimensions  \n",
        "<h5>Example : </h5>\n",
        "if two matrix with Shape  X=(3,2) and Y=(2,5)  then 2=2 => inner dimension \n",
        "and resultant matrix mul shape is x@Y shape =(3,5)"
      ],
      "metadata": {
        "id": "fquxfGchTyim"
      }
    },
    {
      "cell_type": "markdown",
      "source": [
        "**📑Resource** : Regarding Matrix Multiplycation https://www.mathsisfun.com/algebra/matrix-multiplying.html"
      ],
      "metadata": {
        "id": "66TMEXQkMNpZ"
      }
    },
    {
      "cell_type": "code",
      "source": [
        "# Matrix multi in tensor floww \n",
        "import tensorflow as tf\n",
        "print(tensor);print()\n",
        "tf.matmul(tensor,tensor)\n"
      ],
      "metadata": {
        "colab": {
          "base_uri": "https://localhost:8080/"
        },
        "id": "DbOiESvCGboA",
        "outputId": "e503114d-c5da-46c3-87c0-dc37b0ca0006"
      },
      "execution_count": null,
      "outputs": [
        {
          "output_type": "stream",
          "name": "stdout",
          "text": [
            "tf.Tensor(\n",
            "[[ 1  2]\n",
            " [10 20]], shape=(2, 2), dtype=int32)\n",
            "\n"
          ]
        },
        {
          "output_type": "execute_result",
          "data": {
            "text/plain": [
              "<tf.Tensor: shape=(2, 2), dtype=int32, numpy=\n",
              "array([[ 21,  42],\n",
              "       [210, 420]], dtype=int32)>"
            ]
          },
          "metadata": {},
          "execution_count": 6
        }
      ]
    },
    {
      "cell_type": "code",
      "source": [
        "# above is the correct and using python \"*\" is wrong ans \n",
        "print(tensor,\"\\n\\n X \\n\\n\",tensor,\"\\n\\n\\n = \",tensor*tensor)\n",
        "\n",
        "# This one is wrong ans "
      ],
      "metadata": {
        "colab": {
          "base_uri": "https://localhost:8080/"
        },
        "id": "heG9jcYlKq0M",
        "outputId": "f9bc9e9f-0be3-4d66-a114-fa603c589f1d"
      },
      "execution_count": null,
      "outputs": [
        {
          "output_type": "stream",
          "name": "stdout",
          "text": [
            "tf.Tensor(\n",
            "[[ 1  2]\n",
            " [10 20]], shape=(2, 2), dtype=int32) \n",
            "\n",
            " X \n",
            "\n",
            " tf.Tensor(\n",
            "[[ 1  2]\n",
            " [10 20]], shape=(2, 2), dtype=int32) \n",
            "\n",
            "\n",
            " =  tf.Tensor(\n",
            "[[  1   4]\n",
            " [100 400]], shape=(2, 2), dtype=int32)\n"
          ]
        }
      ]
    },
    {
      "cell_type": "code",
      "source": [
        "# so to do it by pythonic way we have to use :   \"@\" this operator\n",
        "tensor @ tensor"
      ],
      "metadata": {
        "colab": {
          "base_uri": "https://localhost:8080/"
        },
        "id": "G10gCXc8LNX9",
        "outputId": "e7dc60bd-e299-4955-95ae-ec32b61600ee"
      },
      "execution_count": null,
      "outputs": [
        {
          "output_type": "execute_result",
          "data": {
            "text/plain": [
              "<tf.Tensor: shape=(2, 2), dtype=int32, numpy=\n",
              "array([[ 21,  42],\n",
              "       [210, 420]], dtype=int32)>"
            ]
          },
          "metadata": {},
          "execution_count": 17
        }
      ]
    },
    {
      "cell_type": "code",
      "source": [
        "# Creating a tensor (3,2) tensor \n",
        "X = tf.constant([[1,2],\n",
        "                 [3,4],\n",
        "                 [5,6]])\n",
        "Y = tf.constant([[7,8],\n",
        "                 [9,10],\n",
        "                 [11,12]])\n",
        "X , Y"
      ],
      "metadata": {
        "colab": {
          "base_uri": "https://localhost:8080/"
        },
        "id": "OaOk5-woLqP_",
        "outputId": "f7569fa9-e9bd-490f-f323-7211cd2cc657"
      },
      "execution_count": null,
      "outputs": [
        {
          "output_type": "execute_result",
          "data": {
            "text/plain": [
              "(<tf.Tensor: shape=(3, 2), dtype=int32, numpy=\n",
              " array([[1, 2],\n",
              "        [3, 4],\n",
              "        [5, 6]], dtype=int32)>, <tf.Tensor: shape=(3, 2), dtype=int32, numpy=\n",
              " array([[ 7,  8],\n",
              "        [ 9, 10],\n",
              "        [11, 12]], dtype=int32)>)"
            ]
          },
          "metadata": {},
          "execution_count": 18
        }
      ]
    },
    {
      "cell_type": "code",
      "source": [
        "# THERE WILL BE DEFINATELY EROR HERE!!  becz inner dim doesn't match \n",
        "X @ Y"
      ],
      "metadata": {
        "colab": {
          "base_uri": "https://localhost:8080/",
          "height": 311
        },
        "id": "WjT38EtcMBeX",
        "outputId": "56412bf3-021a-45bf-d4a8-ae070860a7f3"
      },
      "execution_count": null,
      "outputs": [
        {
          "output_type": "error",
          "ename": "InvalidArgumentError",
          "evalue": "ignored",
          "traceback": [
            "\u001b[0;31m---------------------------------------------------------------------------\u001b[0m",
            "\u001b[0;31mInvalidArgumentError\u001b[0m                      Traceback (most recent call last)",
            "\u001b[0;32m<ipython-input-19-7db1014e61e3>\u001b[0m in \u001b[0;36m<module>\u001b[0;34m()\u001b[0m\n\u001b[0;32m----> 1\u001b[0;31m \u001b[0mX\u001b[0m \u001b[0;34m@\u001b[0m \u001b[0mY\u001b[0m\u001b[0;34m\u001b[0m\u001b[0;34m\u001b[0m\u001b[0m\n\u001b[0m",
            "\u001b[0;32m/usr/local/lib/python3.7/dist-packages/tensorflow/python/util/traceback_utils.py\u001b[0m in \u001b[0;36merror_handler\u001b[0;34m(*args, **kwargs)\u001b[0m\n\u001b[1;32m    151\u001b[0m     \u001b[0;32mexcept\u001b[0m \u001b[0mException\u001b[0m \u001b[0;32mas\u001b[0m \u001b[0me\u001b[0m\u001b[0;34m:\u001b[0m\u001b[0;34m\u001b[0m\u001b[0;34m\u001b[0m\u001b[0m\n\u001b[1;32m    152\u001b[0m       \u001b[0mfiltered_tb\u001b[0m \u001b[0;34m=\u001b[0m \u001b[0m_process_traceback_frames\u001b[0m\u001b[0;34m(\u001b[0m\u001b[0me\u001b[0m\u001b[0;34m.\u001b[0m\u001b[0m__traceback__\u001b[0m\u001b[0;34m)\u001b[0m\u001b[0;34m\u001b[0m\u001b[0;34m\u001b[0m\u001b[0m\n\u001b[0;32m--> 153\u001b[0;31m       \u001b[0;32mraise\u001b[0m \u001b[0me\u001b[0m\u001b[0;34m.\u001b[0m\u001b[0mwith_traceback\u001b[0m\u001b[0;34m(\u001b[0m\u001b[0mfiltered_tb\u001b[0m\u001b[0;34m)\u001b[0m \u001b[0;32mfrom\u001b[0m \u001b[0;32mNone\u001b[0m\u001b[0;34m\u001b[0m\u001b[0;34m\u001b[0m\u001b[0m\n\u001b[0m\u001b[1;32m    154\u001b[0m     \u001b[0;32mfinally\u001b[0m\u001b[0;34m:\u001b[0m\u001b[0;34m\u001b[0m\u001b[0;34m\u001b[0m\u001b[0m\n\u001b[1;32m    155\u001b[0m       \u001b[0;32mdel\u001b[0m \u001b[0mfiltered_tb\u001b[0m\u001b[0;34m\u001b[0m\u001b[0;34m\u001b[0m\u001b[0m\n",
            "\u001b[0;32m/usr/local/lib/python3.7/dist-packages/tensorflow/python/framework/ops.py\u001b[0m in \u001b[0;36mraise_from_not_ok_status\u001b[0;34m(e, name)\u001b[0m\n\u001b[1;32m   7184\u001b[0m \u001b[0;32mdef\u001b[0m \u001b[0mraise_from_not_ok_status\u001b[0m\u001b[0;34m(\u001b[0m\u001b[0me\u001b[0m\u001b[0;34m,\u001b[0m \u001b[0mname\u001b[0m\u001b[0;34m)\u001b[0m\u001b[0;34m:\u001b[0m\u001b[0;34m\u001b[0m\u001b[0;34m\u001b[0m\u001b[0m\n\u001b[1;32m   7185\u001b[0m   \u001b[0me\u001b[0m\u001b[0;34m.\u001b[0m\u001b[0mmessage\u001b[0m \u001b[0;34m+=\u001b[0m \u001b[0;34m(\u001b[0m\u001b[0;34m\" name: \"\u001b[0m \u001b[0;34m+\u001b[0m \u001b[0mname\u001b[0m \u001b[0;32mif\u001b[0m \u001b[0mname\u001b[0m \u001b[0;32mis\u001b[0m \u001b[0;32mnot\u001b[0m \u001b[0;32mNone\u001b[0m \u001b[0;32melse\u001b[0m \u001b[0;34m\"\"\u001b[0m\u001b[0;34m)\u001b[0m\u001b[0;34m\u001b[0m\u001b[0;34m\u001b[0m\u001b[0m\n\u001b[0;32m-> 7186\u001b[0;31m   \u001b[0;32mraise\u001b[0m \u001b[0mcore\u001b[0m\u001b[0;34m.\u001b[0m\u001b[0m_status_to_exception\u001b[0m\u001b[0;34m(\u001b[0m\u001b[0me\u001b[0m\u001b[0;34m)\u001b[0m \u001b[0;32mfrom\u001b[0m \u001b[0;32mNone\u001b[0m  \u001b[0;31m# pylint: disable=protected-access\u001b[0m\u001b[0;34m\u001b[0m\u001b[0;34m\u001b[0m\u001b[0m\n\u001b[0m\u001b[1;32m   7187\u001b[0m \u001b[0;34m\u001b[0m\u001b[0m\n\u001b[1;32m   7188\u001b[0m \u001b[0;34m\u001b[0m\u001b[0m\n",
            "\u001b[0;31mInvalidArgumentError\u001b[0m: Matrix size-incompatible: In[0]: [3,2], In[1]: [3,2] [Op:MatMul]"
          ]
        }
      ]
    },
    {
      "cell_type": "code",
      "source": [
        "# reshaping X and them multiplying them\n",
        "# lets make X as 2,3 since inner remains same in both i.e 3 and ther 2*3 should remain 6\n",
        "X =tf.reshape(X,shape=(2,3))\n",
        "X@Y    #  2,3   X   3,2  =  2,2"
      ],
      "metadata": {
        "colab": {
          "base_uri": "https://localhost:8080/"
        },
        "id": "1YOvKZbNO9OX",
        "outputId": "15517b15-0afe-4f45-f30c-5345e290d0cc"
      },
      "execution_count": null,
      "outputs": [
        {
          "output_type": "execute_result",
          "data": {
            "text/plain": [
              "<tf.Tensor: shape=(2, 2), dtype=int32, numpy=\n",
              "array([[ 58,  64],\n",
              "       [139, 154]], dtype=int32)>"
            ]
          },
          "metadata": {},
          "execution_count": 24
        }
      ]
    },
    {
      "cell_type": "code",
      "source": [
        "#Note above we converted shape of X from 2,3 to 3,2 \n",
        "# we cando it by transpose also \n",
        "X = tf.constant([[1,2],\n",
        "                 [3,4],\n",
        "                 [5,6]]) # 3,2\n",
        "Y = tf.constant([[7,8],\n",
        "                 [9,10],\n",
        "                 [11,12]]) # 3,2\n",
        "# tf.transpose(X) @ Y          # 2,3   X   3,2  =  2,2    OR\n",
        "tf.matmul(tf.transpose(X),Y )  # 2,3   X   3,2  =  2,2"
      ],
      "metadata": {
        "colab": {
          "base_uri": "https://localhost:8080/"
        },
        "id": "3RVLCd3gPfjx",
        "outputId": "d6a7c23f-801c-4679-95b5-c9cf90df6e6f"
      },
      "execution_count": null,
      "outputs": [
        {
          "output_type": "execute_result",
          "data": {
            "text/plain": [
              "<tf.Tensor: shape=(2, 2), dtype=int32, numpy=\n",
              "array([[ 89,  98],\n",
              "       [116, 128]], dtype=int32)>"
            ]
          },
          "metadata": {},
          "execution_count": 26
        }
      ]
    },
    {
      "cell_type": "code",
      "source": [
        "import tensorflow as tf\n",
        "import"
      ],
      "metadata": {
        "id": "0Nh4Lc-ujIlo"
      },
      "execution_count": null,
      "outputs": []
    }
  ]
}